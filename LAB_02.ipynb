{
  "nbformat": 4,
  "nbformat_minor": 0,
  "metadata": {
    "colab": {
      "provenance": []
    },
    "kernelspec": {
      "name": "python3",
      "display_name": "Python 3"
    },
    "language_info": {
      "name": "python"
    }
  },
  "cells": [
    {
      "cell_type": "code",
      "source": [
        "import numpy as np\n",
        "marks = np.array([[85, 78, 92],\n",
        "                  [76, 88, 90],\n",
        "                  [90, 95, 85],\n",
        "                  [70, 60, 75],\n",
        "                  [88, 82, 91]])\n",
        "print(\"Student Marks:\\n\", marks)\n",
        "# Calculate average marks for each student\n",
        "average_marks = np.mean(marks, axis=1)\n",
        "print(\"\\nAverage Marks for each student:\\n\", average_marks)\n",
        "\n",
        "# Calculate minimum marks for each student\n",
        "min_marks = np.min(marks, axis=1)\n",
        "print(\"\\nMinimum Marks for each student:\\n\", min_marks)\n",
        "\n",
        "# Calculate maximum marks for each student\n",
        "max_marks = np.max(marks)\n",
        "print(\"\\nMaximum Marks for each student:\\n\", max_marks)\n",
        "\n",
        "# Calculate average marks for each subject\n",
        "average_subject_marks = np.mean(marks)\n",
        "print(\"\\nAverage Marks for each subject:\\n\", average_subject_marks)"
      ],
      "metadata": {
        "colab": {
          "base_uri": "https://localhost:8080/"
        },
        "id": "D9e-4g3K3WYt",
        "outputId": "a7eb22a9-9b2f-476f-cb09-e8b198f19a75"
      },
      "execution_count": 3,
      "outputs": [
        {
          "output_type": "stream",
          "name": "stdout",
          "text": [
            "Student Marks:\n",
            " [[85 78 92]\n",
            " [76 88 90]\n",
            " [90 95 85]\n",
            " [70 60 75]\n",
            " [88 82 91]]\n",
            "\n",
            "Average Marks for each student:\n",
            " [85.         84.66666667 90.         68.33333333 87.        ]\n",
            "\n",
            "Minimum Marks for each student:\n",
            " [78 76 85 60 82]\n",
            "\n",
            "Maximum Marks for each student:\n",
            " 95\n",
            "\n",
            "Average Marks for each subject:\n",
            " 83.0\n"
          ]
        }
      ]
    },
    {
      "cell_type": "code",
      "source": [
        "import pandas as pd\n",
        "# Creating a dictionary with employee details\n",
        "data = {\n",
        "    'Name': ['Alice', 'Bob', 'Charlie', 'David', 'Eva'],\n",
        "    'ID': [101, 102, 103, 104, 105],\n",
        "    'Department': ['HR', 'IT', 'Finance', 'Marketing', 'IT'],\n",
        "    'Salary': [60000, 45000, 70000, 55000, 48000]\n",
        "}\n",
        "\n",
        "# Creating a DataFrame from the dictionary\n",
        "df = pd.DataFrame(data)\n",
        "print(\"Employee DataFrame:\\n\", df)\n",
        "# Filtering employees with salary > 50,000\n",
        "high_salary_employees = df[df['Salary'] > 50000]\n",
        "print(\"\\nEmployees with Salary > 50,000:\\n\", high_salary_employees)\n",
        "# Sorting the DataFrame by Salary in descending order\n",
        "sorted_df = df.sort_values(by='Salary', ascending=False)\n",
        "print(\"\\nSorted DataFrame by Salary (Descending):\\n\", sorted_df)\n",
        "# Adding a new column for Bonus (10% of Salary)\n",
        "df['Bonus'] = df['Salary'] * 0.10\n",
        "print(\"\\nDataFrame with Bonus Column:\\n\", df)\n",
        "# Calculating total salary expense including bonuses\n",
        "total_salary_expense = df['Salary'].sum() + df['Bonus'].sum()\n",
        "print(\"\\nTotal Salary Expense (including bonuses):\", total_salary_expense)\n",
        "# Saving the DataFrame to a CSV file\n",
        "df.to_csv('employee_details.csv', index=False)\n",
        "print(\"\\nDataFrame saved to 'employee_details.csv'\")"
      ],
      "metadata": {
        "colab": {
          "base_uri": "https://localhost:8080/"
        },
        "id": "osxR2G8O3X2f",
        "outputId": "a18eef0d-ddef-4351-e11f-b97919f93157"
      },
      "execution_count": 4,
      "outputs": [
        {
          "output_type": "stream",
          "name": "stdout",
          "text": [
            "Employee DataFrame:\n",
            "       Name   ID Department  Salary\n",
            "0    Alice  101         HR   60000\n",
            "1      Bob  102         IT   45000\n",
            "2  Charlie  103    Finance   70000\n",
            "3    David  104  Marketing   55000\n",
            "4      Eva  105         IT   48000\n",
            "\n",
            "Employees with Salary > 50,000:\n",
            "       Name   ID Department  Salary\n",
            "0    Alice  101         HR   60000\n",
            "2  Charlie  103    Finance   70000\n",
            "3    David  104  Marketing   55000\n",
            "\n",
            "Sorted DataFrame by Salary (Descending):\n",
            "       Name   ID Department  Salary\n",
            "2  Charlie  103    Finance   70000\n",
            "0    Alice  101         HR   60000\n",
            "3    David  104  Marketing   55000\n",
            "4      Eva  105         IT   48000\n",
            "1      Bob  102         IT   45000\n",
            "\n",
            "DataFrame with Bonus Column:\n",
            "       Name   ID Department  Salary   Bonus\n",
            "0    Alice  101         HR   60000  6000.0\n",
            "1      Bob  102         IT   45000  4500.0\n",
            "2  Charlie  103    Finance   70000  7000.0\n",
            "3    David  104  Marketing   55000  5500.0\n",
            "4      Eva  105         IT   48000  4800.0\n",
            "\n",
            "Total Salary Expense (including bonuses): 305800.0\n",
            "\n",
            "DataFrame saved to 'employee_details.csv'\n"
          ]
        }
      ]
    }
  ]
}